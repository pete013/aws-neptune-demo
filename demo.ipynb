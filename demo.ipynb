{
 "cells": [
  {
   "cell_type": "code",
   "execution_count": 1,
   "id": "16ae3714",
   "metadata": {},
   "outputs": [],
   "source": [
    "import boto3\n",
    "import botocore\n",
    "import logging\n",
    "import sys\n",
    "import json"
   ]
  },
  {
   "cell_type": "code",
   "execution_count": 2,
   "id": "f5570d30",
   "metadata": {},
   "outputs": [],
   "source": [
    "s3 = boto3.resource('s3')"
   ]
  },
  {
   "cell_type": "code",
   "execution_count": 3,
   "id": "1da466a3",
   "metadata": {},
   "outputs": [
    {
     "name": "stdout",
     "output_type": "stream",
     "text": [
      "ab3code\n",
      "ab3demo-0a78222656a4-034186276030-ap-south-1-ingest\n",
      "ab3demo-0a78222656a4-034186276030-ap-south-1-logs\n",
      "ab3demo-0a78222656a4-034186276030-ap-south-1-proxy\n",
      "ab3demo-0a78222656a4-034186276030-ap-south-1-web\n",
      "ab3demo-0add957f0e7a-034186276030-ap-south-1-ingest\n",
      "ab3demo-0add957f0e7a-034186276030-ap-south-1-logs\n",
      "ab3demo-0add957f0e7a-034186276030-ap-south-1-proxy\n",
      "ab3demo-0add957f0e7a-034186276030-ap-south-1-web\n",
      "cloudtrail-awslogs-034186276030-nokas1gs-isengard-do-not-delete\n",
      "do-not-delete-gatedgarden-audit-034186276030\n"
     ]
    }
   ],
   "source": [
    "for bucket in s3.buckets.all():\n",
    "    print(bucket.name)"
   ]
  },
  {
   "cell_type": "code",
   "execution_count": 18,
   "id": "0c0048b2",
   "metadata": {},
   "outputs": [
    {
     "name": "stdout",
     "output_type": "stream",
     "text": [
      "[{'id': '3e025098-b828-38d1-609a-d334a5696631', 'title': 'Chennais Migrant Labourers Now Homeward Bound Due To Demonetisation'}, {'id': '475dfff8-b669-627b-997e-f060494a38e5', 'title': 'Arun Jaitley Talks About Demonetisation And Its Positive Effect'}, {'id': '562d2f91-d16e-83c6-451b-0c394347747c', 'title': 'Mukesh Ambani Lauds Demonetisation At World Economic Forum'}, {'id': '990b4946-5dff-d451-ce50-b8c2c0ec3bf3', 'title': 'Rupee Demonetisation- Mumbai Property Market Takes A Hit'}, {'id': 'ae728edc-40ea-ed4d-6e92-024e70e34175', 'title': 'The Queen visits New Delhi 1983'}]\n"
     ]
    }
   ],
   "source": [
    "client = boto3.client('s3')\n",
    "BUCKET_NAME = 'ab3demo-0add957f0e7a-034186276030-ap-south-1-proxy'\n",
    "\n",
    "media_data = []\n",
    "for key in client.list_objects(Bucket=BUCKET_NAME, MaxKeys=10000)['Contents']:\n",
    "    prefix = key['Key']\n",
    "    if prefix.endswith(\".mp4\"):\n",
    "        prefix_parts = prefix.split(\"/\")\n",
    "        v = {'id': prefix_parts[0], 'title': prefix_parts[-1][:-4].replace('\"', '').replace(\"'\", '')}\n",
    "        media_data.append(v)\n",
    "\n",
    "print(media_data)"
   ]
  },
  {
   "cell_type": "code",
   "execution_count": 19,
   "id": "7fc049fd",
   "metadata": {},
   "outputs": [
    {
     "name": "stdout",
     "output_type": "stream",
     "text": [
      "[{'id': '3e025098-b828-38d1-609a-d334a5696631', 'title': 'Chennais Migrant Labourers Now Homeward Bound Due To Demonetisation', 'sentiment': [{'text': 'Neutral', 'confidence': 43.76, 'begin': 40, 'end': 57550}, {'text': 'Negative', 'confidence': 83.4, 'begin': 60040, 'end': 115650}, {'text': 'Negative', 'confidence': 73.8, 'begin': 116140, 'end': 153650}], 'keyphrase': [{'text': 'your news', 'confidence': 100, 'begin': 40, 'end': 3030}, {'text': 'the South', 'confidence': 99.96, 'begin': 40, 'end': 3030}, {'text': 'one segment', 'confidence': 99.95, 'begin': 3250, 'end': 7140}, {'text': 'the cash crunch', 'confidence': 99.83, 'begin': 7140, 'end': 8950}, {'text': 'right guard', 'confidence': 98.92, 'begin': 13340, 'end': 14370}, {'text': 'The migrant labourers', 'confidence': 100, 'begin': 14370, 'end': 16440}, {'text': 'a T m', 'confidence': 99.98, 'begin': 16440, 'end': 19790}, {'text': 'Taiwan', 'confidence': 100, 'begin': 16440, 'end': 19790}, {'text': 'the podium', 'confidence': 99.95, 'begin': 16440, 'end': 19790}, {'text': 'a reality cheque', 'confidence': 99.98, 'begin': 19790, 'end': 23940}, {'text': 'the kind', 'confidence': 99.99, 'begin': 19790, 'end': 23940}, {'text': 'cues', 'confidence': 99.99, 'begin': 19790, 'end': 23940}, {'text': 'T. M. S', 'confidence': 95.09, 'begin': 23940, 'end': 28170}, {'text': 'Thiruvananthapuram', 'confidence': 100, 'begin': 23940, 'end': 28170}, {'text': 'no queues', 'confidence': 99.91, 'begin': 23940, 'end': 28170}, {'text': 'People', 'confidence': 99.99, 'begin': 28170, 'end': 30350}, {'text': 'just 5,', 'confidence': 83.4, 'begin': 28170, 'end': 30350}, {'text': '10 minutes', 'confidence': 76.4, 'begin': 28170, 'end': 30350}, {'text': 'around five people', 'confidence': 88.65, 'begin': 30360, 'end': 36210}, {'text': 'a line', 'confidence': 100, 'begin': 30360, 'end': 36210}, {'text': 'those people', 'confidence': 99.93, 'begin': 30360, 'end': 36210}, {'text': 'the same situation', 'confidence': 98.16, 'begin': 36220, 'end': 38920}, {'text': 'the cities', 'confidence': 100, 'begin': 36220, 'end': 38920}, {'text': 'The rural parts', 'confidence': 100, 'begin': 38920, 'end': 41740}, {'text': 'situation', 'confidence': 99.37, 'begin': 41750, 'end': 47510}, {'text': 'control', 'confidence': 99.99, 'begin': 41750, 'end': 47510}, {'text': 'a few days', 'confidence': 99.95, 'begin': 41750, 'end': 47510}, {'text': 'the situation', 'confidence': 99.96, 'begin': 47520, 'end': 50960}, {'text': 'many parts', 'confidence': 100, 'begin': 47520, 'end': 50960}, {'text': 'India', 'confidence': 100, 'begin': 47520, 'end': 50960}, {'text': 'this report', 'confidence': 99.98, 'begin': 51040, 'end': 53880}, {'text': 'Sam Daniel', 'confidence': 99.99, 'begin': 51040, 'end': 53880}, {'text': 'Chennai', 'confidence': 99.99, 'begin': 51040, 'end': 53880}, {'text': 'migrant labourers', 'confidence': 99.96, 'begin': 53880, 'end': 57550}, {'text': 'their jobs', 'confidence': 100, 'begin': 53880, 'end': 57550}, {'text': 'the lack', 'confidence': 100, 'begin': 53880, 'end': 57550}, {'text': 'money', 'confidence': 100, 'begin': 53880, 'end': 57550}, {'text': '18 months', 'confidence': 100, 'begin': 60040, 'end': 64260}, {'text': 'construction labour', 'confidence': 99.98, 'begin': 60040, 'end': 64260}, {'text': 'Chennai', 'confidence': 99.99, 'begin': 60040, 'end': 64260}, {'text': '27 year', 'confidence': 99.88, 'begin': 64739, 'end': 69750}, {'text': 'Pinto', 'confidence': 96.01, 'begin': 64739, 'end': 69750}, {'text': 'Barbosa and Rudisha', 'confidence': 99.96, 'begin': 64739, 'end': 69750}, {'text': '₹400', 'confidence': 99.98, 'begin': 70640, 'end': 72950}, {'text': 'a day', 'confidence': 99.84, 'begin': 70640, 'end': 72950}, {'text': 'the cash', 'confidence': 100, 'begin': 73640, 'end': 77540}, {'text': 'the demonetisation', 'confidence': 100, 'begin': 73640, 'end': 77540}, {'text': 'two weeks', 'confidence': 99.84, 'begin': 77550, 'end': 80360}, {'text': 'no work', 'confidence': 99.98, 'begin': 77550, 'end': 80360}, {'text': 'the subject', 'confidence': 99.94, 'begin': 81840, 'end': 84050}, {'text': 'a problem', 'confidence': 99.99, 'begin': 84870, 'end': 86010}, {'text': 'Canada', 'confidence': 87.2, 'begin': 87210, 'end': 87800}, {'text': 'Holder', 'confidence': 99.99, 'begin': 92540, 'end': 97650}, {'text': 'worried faces', 'confidence': 99.53, 'begin': 92540, 'end': 97650}, {'text': 'no permanent address', 'confidence': 100, 'begin': 92540, 'end': 97650}, {'text': 'these migratory construction labourers', 'confidence': 99.99, 'begin': 97660, 'end': 103100}, {'text': 'bank accounts', 'confidence': 99.99, 'begin': 97660, 'end': 103100}, {'text': 'construction labourers', 'confidence': 99.07, 'begin': 108540, 'end': 111950}, {'text': 'their homes', 'confidence': 100, 'begin': 111960, 'end': 114030}, {'text': 'Bengal', 'confidence': 100, 'begin': 111960, 'end': 114030}, {'text': 'Bihar and Odisha', 'confidence': 97.82, 'begin': 114040, 'end': 115650}, {'text': 'Construction activity', 'confidence': 99.97, 'begin': 116140, 'end': 121360}, {'text': 'China', 'confidence': 100, 'begin': 116140, 'end': 121360}, {'text': 'the industry', 'confidence': 99.98, 'begin': 116140, 'end': 121360}, {'text': 'a new labour', 'confidence': 100, 'begin': 121740, 'end': 124860}, {'text': 'the system', 'confidence': 100, 'begin': 125240, 'end': 130360}, {'text': 'the labours', 'confidence': 100, 'begin': 125240, 'end': 130360}, {'text': 'side', 'confidence': 98.95, 'begin': 125240, 'end': 130360}, {'text': 'contractors', 'confidence': 99.98, 'begin': 131039, 'end': 133700}, {'text': 'cash', 'confidence': 66.71, 'begin': 133860, 'end': 136260}, {'text': 'mobilisation', 'confidence': 99.97, 'begin': 133860, 'end': 136260}, {'text': 'the country', 'confidence': 100, 'begin': 136940, 'end': 139440}, {'text': 'the efficiency', 'confidence': 100, 'begin': 136940, 'end': 139440}, {'text': 'the demonetisation drive', 'confidence': 96.94, 'begin': 139450, 'end': 142230}, {'text': 'the ground', 'confidence': 100, 'begin': 139450, 'end': 142230}, {'text': 'the heat', 'confidence': 99.99, 'begin': 142240, 'end': 145090}, {'text': 'labourers', 'confidence': 99.42, 'begin': 145090, 'end': 148550}, {'text': 'home', 'confidence': 98.37, 'begin': 145090, 'end': 148550}, {'text': 'line', 'confidence': 99.97, 'begin': 149240, 'end': 151250}, {'text': 'Suzanne Daniels', 'confidence': 99.95, 'begin': 151640, 'end': 152450}]}, {'id': '475dfff8-b669-627b-997e-f060494a38e5', 'title': 'Arun Jaitley Talks About Demonetisation And Its Positive Effect', 'sentiment': [{'text': 'Neutral', 'confidence': 92.49, 'begin': 3240, 'end': 62040}, {'text': 'Neutral', 'confidence': 63.99, 'begin': 62510, 'end': 114550}, {'text': 'Neutral', 'confidence': 99.6, 'begin': 115040, 'end': 123380}], 'keyphrase': [{'text': 'demonetisation', 'confidence': 99.99, 'begin': 3240, 'end': 5050}, {'text': 'The preliminary analysis', 'confidence': 99.99, 'begin': 5750, 'end': 8770}, {'text': 'the data', 'confidence': 100, 'begin': 5750, 'end': 8770}, {'text': 'respect', 'confidence': 91.28, 'begin': 8770, 'end': 11750}, {'text': 'deposits', 'confidence': 100, 'begin': 8770, 'end': 11750}, {'text': 'the period', 'confidence': 100, 'begin': 15600, 'end': 20250}, {'text': 'November', 'confidence': 99.92, 'begin': 15600, 'end': 20250}, {'text': '30th December 2016', 'confidence': 93.78, 'begin': 15600, 'end': 20250}, {'text': 'Deposit', 'confidence': 97.55, 'begin': 21250, 'end': 24750}, {'text': 'rupees', 'confidence': 99.08, 'begin': 21250, 'end': 24750}, {'text': 'two lakh crore', 'confidence': 94.13, 'begin': 21250, 'end': 24750}, {'text': '80 lakhs', 'confidence': 54.84, 'begin': 25510, 'end': 27050}, {'text': 'an average deposit', 'confidence': 100, 'begin': 34210, 'end': 38660}, {'text': 'rupees', 'confidence': 99.99, 'begin': 34210, 'end': 38660}, {'text': '5.3', 'confidence': 99.99, 'begin': 34210, 'end': 38660}, {'text': 'Deposits', 'confidence': 100, 'begin': 39940, 'end': 42650}, {'text': 'one point', 'confidence': 99.99, 'begin': 43640, 'end': 47250}, {'text': 'eight lakh bank', 'confidence': 95.48, 'begin': 43640, 'end': 47250}, {'text': 'the average size', 'confidence': 100, 'begin': 48220, 'end': 50430}, {'text': 'the deposit', 'confidence': 99.37, 'begin': 48220, 'end': 50430}, {'text': '3.31 crores', 'confidence': 99.98, 'begin': 50720, 'end': 52720}, {'text': 'This data mining', 'confidence': 99.99, 'begin': 54490, 'end': 59490}, {'text': 'the objects', 'confidence': 99.99, 'begin': 62510, 'end': 66490}, {'text': 'd monetisation', 'confidence': 99.62, 'begin': 62510, 'end': 66490}, {'text': 'um Speaker', 'confidence': 85.75, 'begin': 62510, 'end': 66490}, {'text': 'our government', 'confidence': 100, 'begin': 69930, 'end': 74850}, {'text': 'black money component', 'confidence': 100, 'begin': 69930, 'end': 74850}, {'text': 'the economy', 'confidence': 100, 'begin': 69930, 'end': 74850}, {'text': 'our taxation rates', 'confidence': 99.71, 'begin': 75640, 'end': 79350}, {'text': 'our tax administration', 'confidence': 99.87, 'begin': 80340, 'end': 82750}, {'text': 'the tax base', 'confidence': 100, 'begin': 83210, 'end': 85630}, {'text': 'the country', 'confidence': 100, 'begin': 83210, 'end': 85630}, {'text': 'the colour', 'confidence': 100, 'begin': 89440, 'end': 91140}, {'text': 'money', 'confidence': 100, 'begin': 89440, 'end': 91140}, {'text': 'Naya door', 'confidence': 98.93, 'begin': 94710, 'end': 96780}, {'text': 'Dooney and Neha Dora', 'confidence': 99.65, 'begin': 100970, 'end': 104350}, {'text': 'Costa', 'confidence': 99.51, 'begin': 104740, 'end': 106810}, {'text': 'area', 'confidence': 62.76, 'begin': 113110, 'end': 114550}, {'text': 'Kalla', 'confidence': 99.94, 'begin': 115040, 'end': 123380}, {'text': 'Donna', 'confidence': 96.86, 'begin': 115040, 'end': 123380}]}, {'id': '562d2f91-d16e-83c6-451b-0c394347747c', 'title': 'Mukesh Ambani Lauds Demonetisation At World Economic Forum', 'sentiment': [{'text': 'Positive', 'confidence': 54.51, 'begin': 140, 'end': 50240}], 'keyphrase': [{'text': 'Reliance Industries chief Mukesh Ambani', 'confidence': 96.73, 'begin': 3790, 'end': 6150}, {'text': 'the World Economic Forum meeting', 'confidence': 99.99, 'begin': 6150, 'end': 9680}, {'text': 'Davos', 'confidence': 99.96, 'begin': 6150, 'end': 9680}, {'text': 'Switzerland', 'confidence': 100, 'begin': 6150, 'end': 9680}, {'text': 'favour', 'confidence': 99.93, 'begin': 9690, 'end': 12140}, {'text': 'the free market', 'confidence': 97.13, 'begin': 9690, 'end': 12140}, {'text': 'system', 'confidence': 68.92, 'begin': 12140, 'end': 15890}, {'text': 'the crucial need', 'confidence': 99.99, 'begin': 12140, 'end': 15890}, {'text': 'any extra news factors', 'confidence': 89.93, 'begin': 15890, 'end': 19800}, {'text': 'wealth', 'confidence': 99.98, 'begin': 15890, 'end': 19800}, {'text': 'the world', 'confidence': 99.99, 'begin': 19810, 'end': 23060}, {'text': 'all social classes', 'confidence': 99.98, 'begin': 19810, 'end': 23060}, {'text': 'the Note Bank Drive', 'confidence': 99.96, 'begin': 23240, 'end': 27310}, {'text': 'India', 'confidence': 100, 'begin': 23240, 'end': 27310}, {'text': 'eyeballs', 'confidence': 100, 'begin': 23240, 'end': 27310}, {'text': 'the world', 'confidence': 100, 'begin': 23240, 'end': 27310}, {'text': 'Ambani', 'confidence': 99.99, 'begin': 27320, 'end': 29740}, {'text': 'its success', 'confidence': 100, 'begin': 27320, 'end': 29740}, {'text': 'demonetisation', 'confidence': 99.75, 'begin': 29740, 'end': 32850}, {'text': 'success', 'confidence': 90.78, 'begin': 29740, 'end': 32850}, {'text': 'fourth Industrial Revolution', 'confidence': 100, 'begin': 32850, 'end': 35140}, {'text': 'the biggest problem', 'confidence': 100, 'begin': 35150, 'end': 39320}, {'text': 'wealth', 'confidence': 100, 'begin': 35150, 'end': 39320}, {'text': 'inclusiveness', 'confidence': 99.98, 'begin': 39330, 'end': 43250}, {'text': 'more news and updates', 'confidence': 98.87, 'begin': 43340, 'end': 45670}, {'text': 'business logo', 'confidence': 99.93, 'begin': 45670, 'end': 48050}, {'text': 'the financial express', 'confidence': 99.82, 'begin': 45670, 'end': 48050}]}, {'id': '990b4946-5dff-d451-ce50-b8c2c0ec3bf3', 'title': 'Rupee Demonetisation- Mumbai Property Market Takes A Hit', 'sentiment': [{'text': 'Negative', 'confidence': 70.36, 'begin': 40, 'end': 57340}, {'text': 'Neutral', 'confidence': 46.74, 'begin': 57350, 'end': 114560}, {'text': 'Mixed', 'confidence': 53.19, 'begin': 114560, 'end': 172060}, {'text': 'Neutral', 'confidence': 77.41, 'begin': 172140, 'end': 178560}], 'keyphrase': [{'text': 'last week', 'confidence': 98.63, 'begin': 40, 'end': 5610}, {'text': 'Prime Minister Modi', 'confidence': 100, 'begin': 40, 'end': 5610}, {'text': 'the D Monetisation', 'confidence': 99.99, 'begin': 40, 'end': 5610}, {'text': '₹501,000 notes', 'confidence': 100, 'begin': 40, 'end': 5610}, {'text': 'the entire nation', 'confidence': 99.99, 'begin': 5620, 'end': 8230}, {'text': 'guard', 'confidence': 99.97, 'begin': 5620, 'end': 8230}, {'text': 'Several sectors', 'confidence': 100, 'begin': 8240, 'end': 10910}, {'text': 'real estate sector', 'confidence': 92.71, 'begin': 10910, 'end': 13620}, {'text': 'the worst', 'confidence': 99.49, 'begin': 10910, 'end': 13620}, {'text': 'its impact', 'confidence': 100, 'begin': 13630, 'end': 18360}, {'text': 'the Mamba', 'confidence': 100, 'begin': 13630, 'end': 18360}, {'text': 'real estate market', 'confidence': 99.94, 'begin': 13630, 'end': 18360}, {'text': 'the storey', 'confidence': 89.04, 'begin': 13630, 'end': 18360}, {'text': 'India', 'confidence': 100, 'begin': 19440, 'end': 24660}, {'text': 'city', 'confidence': 74.99, 'begin': 19440, 'end': 24660}, {'text': 'a home', 'confidence': 100, 'begin': 19440, 'end': 24660}, {'text': 'a standstill', 'confidence': 100, 'begin': 19440, 'end': 24660}, {'text': 'Real estate transactions', 'confidence': 99.99, 'begin': 25040, 'end': 27950}, {'text': 'Our website', 'confidence': 99.98, 'begin': 28640, 'end': 32689}, {'text': 'Entrepreneur', 'confidence': 95.33, 'begin': 28640, 'end': 32689}, {'text': '107 100 people', 'confidence': 81.17, 'begin': 28640, 'end': 32689}, {'text': 'a day', 'confidence': 99.9, 'begin': 28640, 'end': 32689}, {'text': '400 people', 'confidence': 99.93, 'begin': 32700, 'end': 34360}, {'text': 'a day', 'confidence': 99.8, 'begin': 32700, 'end': 34360}, {'text': 'inquiries', 'confidence': 65.8, 'begin': 34940, 'end': 37980}, {'text': '30 40 50 inquiries', 'confidence': 95.49, 'begin': 34940, 'end': 37980}, {'text': 'a day', 'confidence': 99.95, 'begin': 34940, 'end': 37980}, {'text': '57 inquiries', 'confidence': 100, 'begin': 37980, 'end': 40690}, {'text': 'a 50 70%', 'confidence': 91.4, 'begin': 40700, 'end': 43640}, {'text': 'no transactions', 'confidence': 97.71, 'begin': 43650, 'end': 47230}, {'text': 'people', 'confidence': 98.85, 'begin': 47240, 'end': 49760}, {'text': 'their business', 'confidence': 100, 'begin': 47240, 'end': 49760}, {'text': 'developers', 'confidence': 99.98, 'begin': 50440, 'end': 54210}, {'text': 'a short term turmoil', 'confidence': 98.24, 'begin': 50440, 'end': 54210}, {'text': 'the cheques', 'confidence': 99.98, 'begin': 54210, 'end': 57340}, {'text': 'sales', 'confidence': 100, 'begin': 54210, 'end': 57340}, {'text': 'the primary market', 'confidence': 100, 'begin': 57350, 'end': 63880}, {'text': 'experts', 'confidence': 99.99, 'begin': 57350, 'end': 63880}, {'text': 'no one', 'confidence': 99.68, 'begin': 57350, 'end': 63880}, {'text': 'the domino effect', 'confidence': 99.97, 'begin': 57350, 'end': 63880}, {'text': 'Secondary markets', 'confidence': 99.94, 'begin': 63890, 'end': 68650}, {'text': 'the impact', 'confidence': 99.99, 'begin': 63890, 'end': 68650}, {'text': 'buyer', 'confidence': 94.29, 'begin': 68940, 'end': 72020}, {'text': 'those options', 'confidence': 99.99, 'begin': 68940, 'end': 72020}, {'text': 'the same number', 'confidence': 100, 'begin': 72020, 'end': 75360}, {'text': 'the secondary market', 'confidence': 100, 'begin': 81100, 'end': 83730}, {'text': 'a corrected price', 'confidence': 99.98, 'begin': 81100, 'end': 83730}, {'text': 'the primary sale', 'confidence': 99.99, 'begin': 83740, 'end': 88870}, {'text': 'this buyers', 'confidence': 98.55, 'begin': 83740, 'end': 88870}, {'text': 'concern', 'confidence': 53.15, 'begin': 90030, 'end': 93860}, {'text': 'developers mine', 'confidence': 84.59, 'begin': 90030, 'end': 93860}, {'text': 'the themselves', 'confidence': 78.81, 'begin': 94240, 'end': 96840}, {'text': 'cash', 'confidence': 99.98, 'begin': 94240, 'end': 96840}, {'text': 'a consensus', 'confidence': 76.47, 'begin': 97640, 'end': 101910}, {'text': 'high value secondary property', 'confidence': 99.52, 'begin': 97640, 'end': 101910}, {'text': 'as much as 30%', 'confidence': 99.51, 'begin': 101910, 'end': 105650}, {'text': 'the prices', 'confidence': 90.71, 'begin': 106240, 'end': 107730}, {'text': 'instance', 'confidence': 99.99, 'begin': 107740, 'end': 112660}, {'text': 'areas', 'confidence': 99.97, 'begin': 107740, 'end': 112660}, {'text': 'the segment', 'confidence': 99.99, 'begin': 107740, 'end': 112660}, {'text': 'Santa Cruz Ju', 'confidence': 89.58, 'begin': 113340, 'end': 114560}, {'text': 'the kind', 'confidence': 99.99, 'begin': 114560, 'end': 117950}, {'text': 'areas', 'confidence': 99.99, 'begin': 114560, 'end': 117950}, {'text': 'the south side', 'confidence': 99.69, 'begin': 114560, 'end': 117950}, {'text': 'side', 'confidence': 99.13, 'begin': 114560, 'end': 117950}, {'text': 'areas', 'confidence': 99.99, 'begin': 117960, 'end': 121780}, {'text': 'Happy and Sithole Pedder Road', 'confidence': 93.52, 'begin': 117960, 'end': 121780}, {'text': 'a large element', 'confidence': 100, 'begin': 121780, 'end': 124620}, {'text': 'cash', 'confidence': 100, 'begin': 121780, 'end': 124620}, {'text': 'the vault', 'confidence': 100, 'begin': 121780, 'end': 124620}, {'text': 'the other hand', 'confidence': 100, 'begin': 124630, 'end': 125830}, {'text': 'areas', 'confidence': 100, 'begin': 125830, 'end': 131160}, {'text': 'the commercial hubs', 'confidence': 100, 'begin': 125830, 'end': 131160}, {'text': 'instance', 'confidence': 99.99, 'begin': 131340, 'end': 134870}, {'text': 'bhangra', 'confidence': 99.15, 'begin': 131340, 'end': 134870}, {'text': 'Bkc', 'confidence': 99.88, 'begin': 131340, 'end': 134870}, {'text': 'Casey', 'confidence': 74.93, 'begin': 131340, 'end': 134870}, {'text': 'the demand', 'confidence': 87.3, 'begin': 136840, 'end': 139600}, {'text': 'housing', 'confidence': 99.99, 'begin': 136840, 'end': 139600}, {'text': 'this banking professionals', 'confidence': 99.94, 'begin': 139610, 'end': 142300}, {'text': 'loans', 'confidence': 99.98, 'begin': 142310, 'end': 145020}, {'text': 'their savings', 'confidence': 100, 'begin': 142310, 'end': 145020}, {'text': 'an impact', 'confidence': 100, 'begin': 145030, 'end': 148360}, {'text': 'place', 'confidence': 99.99, 'begin': 145030, 'end': 148360}, {'text': 'Most industry participants', 'confidence': 99.98, 'begin': 149040, 'end': 152810}, {'text': 'their fingers', 'confidence': 99.99, 'begin': 149040, 'end': 152810}, {'text': 'primary sales', 'confidence': 99.99, 'begin': 152810, 'end': 156310}, {'text': 'employment generation', 'confidence': 99.99, 'begin': 152810, 'end': 156310}, {'text': 'this tsunami', 'confidence': 99.99, 'begin': 156320, 'end': 159070}, {'text': 'real estate', 'confidence': 100, 'begin': 156320, 'end': 159070}, {'text': 'this post', 'confidence': 100, 'begin': 159080, 'end': 164300}, {'text': 'PMS Facebook Page', 'confidence': 100, 'begin': 159080, 'end': 164300}, {'text': 'the government sentiments', 'confidence': 99.96, 'begin': 159080, 'end': 164300}, {'text': 'Real estate prices', 'confidence': 99.98, 'begin': 164310, 'end': 168220}, {'text': 'a city', 'confidence': 100, 'begin': 168230, 'end': 172060}, {'text': 'Mumbai', 'confidence': 99.99, 'begin': 168230, 'end': 172060}, {'text': 'a home', 'confidence': 99.99, 'begin': 172140, 'end': 175650}, {'text': 'a common man', 'confidence': 100, 'begin': 172140, 'end': 175650}, {'text': 'Mumbai, Ashwini, Patriarchal and HGTV', 'confidence': 99.64, 'begin': 176140, 'end': 178560}]}, {'id': 'ae728edc-40ea-ed4d-6e92-024e70e34175', 'title': 'The Queen visits New Delhi 1983', 'sentiment': [{'text': 'Neutral', 'confidence': 77.63, 'begin': 2940, 'end': 62030}, {'text': 'Neutral', 'confidence': 77.51, 'begin': 62030, 'end': 80860}], 'keyphrase': [{'text': 'the Queen', 'confidence': 99.99, 'begin': 2940, 'end': 5160}, {'text': 'today', 'confidence': 96.2, 'begin': 5540, 'end': 9030}, {'text': 'the TriStar Touchdown', 'confidence': 97.13, 'begin': 5540, 'end': 9030}, {'text': 'Delhi Airport', 'confidence': 99.7, 'begin': 5540, 'end': 9030}, {'text': 'minutes', 'confidence': 98.05, 'begin': 9030, 'end': 12050}, {'text': 'the original published time', 'confidence': 99.98, 'begin': 9030, 'end': 12050}, {'text': 'noon', 'confidence': 99.98, 'begin': 9030, 'end': 12050}, {'text': 'India', 'confidence': 99.96, 'begin': 13550, 'end': 14880}, {'text': 'Minister Mrs Gandhi', 'confidence': 98.94, 'begin': 14880, 'end': 16090}, {'text': 'a striped umbrella', 'confidence': 100, 'begin': 16100, 'end': 18930}, {'text': 'astrologers', 'confidence': 100, 'begin': 18930, 'end': 20060}, {'text': 'arrival time', 'confidence': 95.35, 'begin': 24200, 'end': 25420}, {'text': 'very eminent astrologer', 'confidence': 79.79, 'begin': 25430, 'end': 27060}, {'text': 'the palace', 'confidence': 100, 'begin': 27440, 'end': 30370}, {'text': 'the stars', 'confidence': 100, 'begin': 30410, 'end': 31760}, {'text': 'the president', 'confidence': 99.99, 'begin': 34040, 'end': 36970}, {'text': 'the 21 gun salute', 'confidence': 99.86, 'begin': 34040, 'end': 36970}, {'text': 'her first visit', 'confidence': 100, 'begin': 36980, 'end': 40660}, {'text': '22 years', 'confidence': 100, 'begin': 36980, 'end': 40660}, {'text': 'Delhi', 'confidence': 100, 'begin': 42740, 'end': 45760}, {'text': 'large diplomatic corps', 'confidence': 99.99, 'begin': 42740, 'end': 45760}, {'text': 'One ambassador', 'confidence': 99.88, 'begin': 46440, 'end': 47470}, {'text': 'Portuguese', 'confidence': 95.32, 'begin': 47470, 'end': 48570}, {'text': 'a little', 'confidence': 83, 'begin': 48570, 'end': 50460}, {'text': 'the elegance', 'confidence': 99.95, 'begin': 53240, 'end': 55100}, {'text': 'the days', 'confidence': 99.99, 'begin': 55100, 'end': 56470}, {'text': 'garland', 'confidence': 99.99, 'begin': 56470, 'end': 57250}, {'text': 'elephants', 'confidence': 99.3, 'begin': 57260, 'end': 58030}, {'text': 'Today', 'confidence': 99.84, 'begin': 58040, 'end': 58780}, {'text': 'ceremonial animal', 'confidence': 99.7, 'begin': 58780, 'end': 60130}, {'text': 'a sleek Mercedes', 'confidence': 99.98, 'begin': 60130, 'end': 62030}, {'text': 'the queen', 'confidence': 99.99, 'begin': 62030, 'end': 63950}, {'text': 'the city', 'confidence': 100, 'begin': 62030, 'end': 63950}, {'text': 'The main part', 'confidence': 100, 'begin': 65340, 'end': 68850}, {'text': 'the queen', 'confidence': 100, 'begin': 65340, 'end': 68850}, {'text': 'tour', 'confidence': 99.99, 'begin': 65340, 'end': 68850}, {'text': 'Mrs Gandhi', 'confidence': 99.58, 'begin': 69240, 'end': 71870}, {'text': 'the opening', 'confidence': 100, 'begin': 72020, 'end': 75360}, {'text': 'the Commonwealth Heads', 'confidence': 99.7, 'begin': 72020, 'end': 75360}, {'text': 'Government meeting', 'confidence': 95.15, 'begin': 72020, 'end': 75360}, {'text': 'next week', 'confidence': 99.97, 'begin': 72020, 'end': 75360}, {'text': 'India', 'confidence': 99.99, 'begin': 75940, 'end': 78590}, {'text': 'due regard', 'confidence': 99.83, 'begin': 78780, 'end': 80860}]}]\n"
     ]
    }
   ],
   "source": [
    "for v in media_data:\n",
    "    KEY = v['id'] + '/metadata/'\n",
    "    \n",
    "    s3.Bucket(BUCKET_NAME).download_file(KEY + 'sentiment/output.json', 'sentiment_output.json')\n",
    "    s3.Bucket(BUCKET_NAME).download_file(KEY + 'keyphrase/output.json', 'keyphrase_output.json')\n",
    "    \n",
    "    with open('sentiment_output.json',) as f:\n",
    "        v['sentiment'] = json.load(f)\n",
    "\n",
    "    with open('keyphrase_output.json',) as f:\n",
    "        v['keyphrase'] = json.load(f)\n",
    "\n",
    "print(media_data)"
   ]
  },
  {
   "cell_type": "code",
   "execution_count": null,
   "id": "4fb41208",
   "metadata": {},
   "outputs": [],
   "source": []
  },
  {
   "cell_type": "code",
   "execution_count": 34,
   "id": "333313e0",
   "metadata": {},
   "outputs": [],
   "source": [
    "lines = []\n",
    "tmp_set = set()\n",
    "tmp_list = []\n",
    "\n",
    "lines.append('g.addV(\"sentiment\").property(id, \"neutral\")\\n')\n",
    "lines.append('g.addV(\"sentiment\").property(id, \"positive\")\\n')\n",
    "lines.append('g.addV(\"sentiment\").property(id, \"negative\")\\n')\n",
    "lines.append('g.addV(\"sentiment\").property(id, \"mixed\")\\n')\n",
    "\n",
    "for post in media_data:\n",
    "    lines.append('g.addV(\"video\").property(id, \"'+post['id']+'\").property(\"title\", \"'+post['title']+'\")\\n')\n",
    "        \n",
    "    #TODO: Put logic to find the most suitable sentiment\n",
    "    for sentiment in post['sentiment'][0:1]:\n",
    "        # f.write('g.addV(\"sentiment\").property(id, \"'+sentiment['text'].lower()+'\").next()\\n')\n",
    "\n",
    "        lines.append('g.addE(\"relates\").from(g.V(\"'+post['id']+'\")).to(g.V(\"'+sentiment['text'].lower()+'\")).property(\"confidence\", \"'+str(sentiment['confidence'])+'\")\\n') \n",
    "\n",
    "    for keyphrase in post['keyphrase']:\n",
    "        tmp_set.add('g.addV(\"keyphrase\").property(id, \"'+keyphrase['text'].lower()+'\")\\n')\n",
    "\n",
    "        tmp_list.append('g.addE(\"relates\").from(g.V(\"'+post['id']+'\")).to(g.V(\"'+keyphrase['text'].lower()+'\")).property(\"confidence\", \"'+str(keyphrase['confidence'])+'\")\\n')\n",
    "    \n",
    "lines.extend(list(tmp_set))\n",
    "lines.extend(tmp_list)\n",
    "\n",
    "\n",
    "with open('media_seed_data.txt', 'w') as f:\n",
    "    f.writelines(lines)\n"
   ]
  },
  {
   "cell_type": "code",
   "execution_count": null,
   "id": "2e9b45d6",
   "metadata": {},
   "outputs": [],
   "source": []
  },
  {
   "cell_type": "code",
   "execution_count": 92,
   "id": "07b5349c",
   "metadata": {},
   "outputs": [],
   "source": [
    "from itertools import groupby\n",
    "\n",
    "sentiment_weight = {'negative': 1.3, 'mixed': 1.2, 'positive': 1.1, 'neutral': 1.0}\n",
    "\n",
    "def choose_sentiment(sentiment_list):\n",
    "\n",
    "    def key_func(k):\n",
    "        return k['text'].lower()\n",
    "\n",
    "    def aggregate(obj_list):\n",
    "        duration = sum(list(map(lambda obj: obj['end'] - obj['begin'], obj_list)))\n",
    "        confidence = max(list(map(lambda obj: obj['confidence'], obj_list)))\n",
    "\n",
    "        return {'duration': duration, 'confidence': confidence}\n",
    "\n",
    "    sentiments = sorted(sentiment_list, key=key_func)\n",
    "    sentiments_agg = []\n",
    "    for key, values in groupby(sentiments, key_func):\n",
    "        sentiment = aggregate(list(values))\n",
    "        sentiment['text'] = key\n",
    "        sentiments_agg.append(sentiment)\n",
    "\n",
    "    return max(sentiments_agg, key=lambda k: k['duration'] * sentiment_weight[k['text']])"
   ]
  },
  {
   "cell_type": "code",
   "execution_count": 95,
   "id": "a6dd9a24",
   "metadata": {},
   "outputs": [],
   "source": [
    "lines = []\n",
    "tmp_set = set()\n",
    "tmp_list = []\n",
    "\n",
    "do_analysis_on = {'keyphrase_contains': 'monetisation', 'keyphrase': 'demonetisation'}\n",
    "\n",
    "lines.append('g.addV(\"sentiment\").property(id, \"neutral\")\\n')\n",
    "lines.append('g.addV(\"sentiment\").property(id, \"positive\")\\n')\n",
    "lines.append('g.addV(\"sentiment\").property(id, \"negative\")\\n')\n",
    "lines.append('g.addV(\"sentiment\").property(id, \"mixed\")\\n')\n",
    "\n",
    "for post in media_data:\n",
    "    lines.append('g.addV(\"video\").property(id, \"'+post['id']+'\").property(\"title\", \"'+post['title']+'\")\\n')\n",
    "\n",
    "    sentiment = choose_sentiment(post['sentiment'])\n",
    "    lines.append('g.addE(\"relates\").from(g.V(\"'+post['id']+'\")).to(g.V(\"'+sentiment['text'].lower()+'\")).property(\"confidence\", \"'+str(sentiment['confidence'])+'\")\\n') \n",
    "\n",
    "    for keyphrase in post['keyphrase']:\n",
    "        keyphrase_id = keyphrase['text'].lower()\n",
    "        \n",
    "        if do_analysis_on['keyphrase_contains'] in keyphrase_id:\n",
    "            keyphrase_id = do_analysis_on['keyphrase']\n",
    "        \n",
    "        tmp_set.add('g.addV(\"keyphrase\").property(id, \"'+keyphrase_id+'\")\\n')\n",
    "\n",
    "        tmp_list.append('g.addE(\"relates\").from(g.V(\"'+post['id']+'\")).to(g.V(\"'+keyphrase_id+'\")).property(\"confidence\", \"'+str(keyphrase['confidence'])+'\")\\n')\n",
    "    \n",
    "lines.extend(list(tmp_set))\n",
    "lines.extend(tmp_list)\n",
    "\n",
    "with open('media_seed_data.txt', 'w') as f:\n",
    "    f.writelines(lines)\n"
   ]
  },
  {
   "cell_type": "code",
   "execution_count": null,
   "id": "2d59ee72",
   "metadata": {},
   "outputs": [],
   "source": []
  },
  {
   "cell_type": "code",
   "execution_count": 96,
   "id": "62138c48",
   "metadata": {},
   "outputs": [
    {
     "name": "stdout",
     "output_type": "stream",
     "text": [
      "/home/ec2-user/anaconda3/envs/JupyterSystemEnv/lib/python3.6/site-packages\n",
      "total 60\n",
      "drwxrwxr-x 2 ec2-user ec2-user  4096 Nov 25 10:11 .\n",
      "drwxrwxr-x 8 ec2-user ec2-user  4096 Nov 25 10:11 ..\n",
      "-rw-rw-r-- 1 ec2-user ec2-user 49736 Nov 25 11:59 media_seed_data.txt\n"
     ]
    }
   ],
   "source": [
    "%%bash\n",
    "\n",
    "GRAPH_NOTEBOOK_INSTALL_PATH=`pip show graph-notebook | grep \"Location\" | cut -d ' ' -f2`\n",
    "echo $GRAPH_NOTEBOOK_INSTALL_PATH\n",
    "mkdir -p $GRAPH_NOTEBOOK_INSTALL_PATH/graph_notebook/seed/queries/propertygraph/demonetisation\n",
    "cp media_seed_data.txt $GRAPH_NOTEBOOK_INSTALL_PATH/graph_notebook/seed/queries/propertygraph/demonetisation/\n",
    "ls -al $GRAPH_NOTEBOOK_INSTALL_PATH/graph_notebook/seed/queries/propertygraph/demonetisation"
   ]
  },
  {
   "cell_type": "code",
   "execution_count": 97,
   "id": "8db46235",
   "metadata": {},
   "outputs": [
    {
     "data": {
      "application/vnd.jupyter.widget-view+json": {
       "model_id": "3adcc048d3d44a308eb88b948f655d1e",
       "version_major": 2,
       "version_minor": 0
      },
      "text/plain": [
       "Dropdown(description='Data model:', options=('', 'Property_Graph', 'RDF'), value='')"
      ]
     },
     "metadata": {},
     "output_type": "display_data"
    },
    {
     "data": {
      "application/vnd.jupyter.widget-view+json": {
       "model_id": "bb275c969bf24707a68fed33e0826ca3",
       "version_major": 2,
       "version_minor": 0
      },
      "text/plain": [
       "Dropdown(description='Data set:', layout=Layout(visibility='hidden'), options=(), value=None)"
      ]
     },
     "metadata": {},
     "output_type": "display_data"
    },
    {
     "data": {
      "application/vnd.jupyter.widget-view+json": {
       "model_id": "",
       "version_major": 2,
       "version_minor": 0
      },
      "text/plain": [
       "Button(description='Submit', layout=Layout(visibility='hidden'), style=ButtonStyle())"
      ]
     },
     "metadata": {},
     "output_type": "display_data"
    },
    {
     "data": {
      "application/vnd.jupyter.widget-view+json": {
       "model_id": "37498f2654ad4886bf4326e94dcaa1e9",
       "version_major": 2,
       "version_minor": 0
      },
      "text/plain": [
       "Output()"
      ]
     },
     "metadata": {},
     "output_type": "display_data"
    },
    {
     "data": {
      "application/vnd.jupyter.widget-view+json": {
       "model_id": "5bb944c995384140885a52ecb28a193a",
       "version_major": 2,
       "version_minor": 0
      },
      "text/plain": [
       "Output()"
      ]
     },
     "metadata": {},
     "output_type": "display_data"
    }
   ],
   "source": [
    "%seed --model Property_Graph --dataset demonetisation --run"
   ]
  },
  {
   "cell_type": "code",
   "execution_count": 98,
   "id": "3fafd4ed",
   "metadata": {},
   "outputs": [],
   "source": [
    "my_node_labels = '{\"sentiment\":\"T.id\",\"keyphrase\":\"T.id\",\"video\":\"title\"}'\n",
    "my_edge_labels = '{\"relates\":\"confidence\"}'"
   ]
  },
  {
   "cell_type": "code",
   "execution_count": 99,
   "id": "4754ff3a",
   "metadata": {},
   "outputs": [
    {
     "data": {
      "application/vnd.jupyter.widget-view+json": {
       "model_id": "a15af8c30f3b4cfca59ca41245c173e8",
       "version_major": 2,
       "version_minor": 0
      },
      "text/plain": [
       "Tab(children=(Output(layout=Layout(max_height='600px', overflow='scroll', width='100%')), Force(network=<graph…"
      ]
     },
     "metadata": {},
     "output_type": "display_data"
    }
   ],
   "source": [
    "%%gremlin -p v,ine,outv,oute,inv -d $my_node_labels -de $my_edge_labels\n",
    "\n",
    "g.V().has(id, 'demonetisation').inE('relates').outV().outE('relates').inV().hasLabel('sentiment').path().by(valueMap(true))\n",
    "\n"
   ]
  },
  {
   "cell_type": "code",
   "execution_count": null,
   "id": "b7568bdf",
   "metadata": {},
   "outputs": [],
   "source": []
  },
  {
   "cell_type": "code",
   "execution_count": 70,
   "id": "337b9486",
   "metadata": {},
   "outputs": [
    {
     "data": {
      "application/vnd.jupyter.widget-view+json": {
       "model_id": "1f7ec910b9584fdbafeed860cc94c8cf",
       "version_major": 2,
       "version_minor": 0
      },
      "text/plain": [
       "Tab(children=(Output(layout=Layout(max_height='600px', overflow='scroll', width='100%')), Force(network=<graph…"
      ]
     },
     "metadata": {},
     "output_type": "display_data"
    }
   ],
   "source": [
    "%%gremlin -p v,ine,outv,oute,inv -d $my_node_labels -de $my_edge_labels\n",
    "\n",
    "//TODO: use contains logic\n",
    "g.V().has(id, TextP.containing('monetisation')).inE('relates').outV().outE('relates').inV().hasLabel('sentiment').path().by(valueMap(true))\n",
    "\n"
   ]
  },
  {
   "cell_type": "code",
   "execution_count": null,
   "id": "2445de5f",
   "metadata": {},
   "outputs": [],
   "source": []
  },
  {
   "cell_type": "code",
   "execution_count": 91,
   "id": "ee47589b",
   "metadata": {},
   "outputs": [
    {
     "data": {
      "application/vnd.jupyter.widget-view+json": {
       "model_id": "a998ad7416db46218c73c270d0d7f042",
       "version_major": 2,
       "version_minor": 0
      },
      "text/plain": [
       "Tab(children=(Output(layout=Layout(max_height='600px', overflow='scroll', width='100%')), Output(layout=Layout…"
      ]
     },
     "metadata": {},
     "output_type": "display_data"
    }
   ],
   "source": [
    "%%gremlin\n",
    "\n",
    "g.V().limit(100000).drop()"
   ]
  },
  {
   "cell_type": "code",
   "execution_count": null,
   "id": "8cf1f119",
   "metadata": {},
   "outputs": [],
   "source": []
  }
 ],
 "metadata": {
  "kernelspec": {
   "display_name": "Python 3",
   "language": "python",
   "name": "python3"
  },
  "language_info": {
   "codemirror_mode": {
    "name": "ipython",
    "version": 3
   },
   "file_extension": ".py",
   "mimetype": "text/x-python",
   "name": "python",
   "nbconvert_exporter": "python",
   "pygments_lexer": "ipython3",
   "version": "3.6.13"
  }
 },
 "nbformat": 4,
 "nbformat_minor": 5
}
